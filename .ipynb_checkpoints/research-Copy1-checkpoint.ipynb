{
 "cells": [
  {
   "cell_type": "code",
   "execution_count": 1,
   "id": "7ade5e8f",
   "metadata": {},
   "outputs": [],
   "source": [
    "from PIL import Image\n",
    "import requests\n",
    "import pandas as pd\n",
    "import random\n",
    "from bs4 import BeautifulSoup"
   ]
  },
  {
   "cell_type": "code",
   "execution_count": null,
   "id": "fa7f62c1",
   "metadata": {},
   "outputs": [],
   "source": [
    "import spacy\n",
    "model = spacy.load(\"en_core_web_sm\")\n"
   ]
  },
  {
   "cell_type": "markdown",
   "id": "0dae7df7",
   "metadata": {},
   "source": [
    "# TrustPilot"
   ]
  },
  {
   "cell_type": "code",
   "execution_count": 2,
   "id": "9a9bf2f2",
   "metadata": {},
   "outputs": [],
   "source": [
    "import requests\n",
    "from bs4 import BeautifulSoup\n",
    "import json\n",
    "\n",
    "# Replace <your-company> with the name of the company you want to scrape reviews for\n",
    "url = 'https://www.trustpilot.com/review/lionsprep.co.uk'\n",
    "\n",
    "# Send a GET request to the URL and store the response\n",
    "response = requests.get(url)\n",
    "\n",
    "# Create a Beautiful Soup object from the response\n",
    "soup = BeautifulSoup(response.text, 'html.parser')\n",
    "\n",
    "script_tag = soup.find('script', {'data-business-unit-json-ld': 'true'})\n",
    "\n",
    "# Extract the JSON data from the tag's text attribute\n",
    "json_str = script_tag.text.strip()\n",
    "\n",
    "# Parse the JSON string into a dictionary\n",
    "json_data = json.loads(json_str)\n",
    "\n"
   ]
  },
  {
   "cell_type": "code",
   "execution_count": 3,
   "id": "1038224a",
   "metadata": {},
   "outputs": [],
   "source": [
    "base_url = 'https://uk.trustpilot.com/review/lionsprep.co.uk?page='\n",
    "urls = [base_url+str(i) for i in range(1,10)]"
   ]
  },
  {
   "cell_type": "code",
   "execution_count": 4,
   "id": "a1c1d406",
   "metadata": {},
   "outputs": [],
   "source": [
    "import concurrent.futures\n",
    "\n",
    "def scrape_trustpilot_data(url):\n",
    "    response = requests.get(url)\n",
    "    soup = BeautifulSoup(response.text, 'html.parser')\n",
    "    script_tag = soup.find('script', {'data-business-unit-json-ld': 'true'})\n",
    "    json_str = script_tag.text.strip()\n",
    "    json_data = json.loads(json_str)\n",
    "    return json_data\n",
    "\n",
    "\n",
    "\n",
    "\n"
   ]
  },
  {
   "cell_type": "code",
   "execution_count": 5,
   "id": "fcbbc2d2",
   "metadata": {},
   "outputs": [],
   "source": [
    "with concurrent.futures.ThreadPoolExecutor(max_workers=10) as executor:\n",
    "    # Use the map() function to apply the function to each URL in parallel\n",
    "    results = executor.map(scrape_trustpilot_data, urls)\n",
    "\n",
    "# results is an iterator that contains the results of each function call\n",
    "page_results = [result for result in results]\n"
   ]
  },
  {
   "cell_type": "code",
   "execution_count": 12,
   "id": "a6ee19c4",
   "metadata": {},
   "outputs": [],
   "source": [
    "def _get_content_from_page_results(page_result,key):\n",
    "    page_content = [i[key] for i in page_result['@graph'] if i['@type'] == 'Review']\n",
    "    return page_content"
   ]
  },
  {
   "cell_type": "code",
   "execution_count": 42,
   "id": "a8231358",
   "metadata": {},
   "outputs": [],
   "source": [
    "def extract_nested_content(page_results):\n",
    "    reviews_nested = [_get_content_from_page_results(page_result,'reviewBody') for page_result in page_results]\n",
    "    headlines_nested = [_get_content_from_page_results(page_result,'headline') for page_result in page_results]\n",
    "    ratings_nested = [_get_content_from_page_results(page_result,'reviewRating') for page_result in page_results]\n",
    "    authors_nested = [_get_content_from_page_results(page_result,'author') for page_result in page_results]\n",
    "    \n",
    "    return reviews_nested, headlines_nested, ratings_nested, authors_nested\n",
    "   "
   ]
  },
  {
   "cell_type": "code",
   "execution_count": 44,
   "id": "877e6456",
   "metadata": {},
   "outputs": [],
   "source": [
    "reviews_nested, headlines_nested, ratings_nested, authors_nested = extract_nested_content(page_results)"
   ]
  },
  {
   "cell_type": "code",
   "execution_count": 48,
   "id": "698d569a",
   "metadata": {},
   "outputs": [],
   "source": [
    "def flatten_nested_content(reviews_nested, headlines_nested, ratings_nested, authors_nested):\n",
    "    reviews_flattened = [review for reviews in reviews_nested for review in reviews]\n",
    "    headlines_flattened = [headline for headlines in headlines_nested for headline in headlines]\n",
    "    ratings_flattened = [rating for ratings in ratings_nested for rating in ratings]\n",
    "    authors_flattened = [author for authors in authors_nested for author in authors]\n",
    "    return reviews_flattened,headlines_flattened,ratings_flattened,authors_flattened\n"
   ]
  },
  {
   "cell_type": "code",
   "execution_count": 49,
   "id": "e161176a",
   "metadata": {},
   "outputs": [],
   "source": [
    "reviews_flattened,headlines_flattened,ratings_flattened,authors_flattened = \\\n",
    "flatten_nested_content(reviews_nested, headlines_nested, ratings_nested, authors_nested)"
   ]
  },
  {
   "cell_type": "code",
   "execution_count": null,
   "id": "84e3d722",
   "metadata": {},
   "outputs": [],
   "source": [
    "def transform_review_content():\n",
    "    reviews_flattened,headlines_flattened,ratings_flattened,authors_flattened = \\\n",
    "     flatten_nested_content(reviews_nested, headlines_nested, ratings_nested, authors_nested)"
   ]
  },
  {
   "cell_type": "code",
   "execution_count": 32,
   "id": "377aa152",
   "metadata": {},
   "outputs": [],
   "source": [
    "def get_dataframe_results():\n",
    "    df = pd.DataFrame({'review':reviews_flattened,\n",
    "                      'author':authors_flattened,\n",
    "                      'headline':headlines_flattened,\n",
    "                      'ratings':ratings_flattened})\n",
    "    df_rating = transform_nested_dataframe_column(df, 'author',['name','url'])\n",
    "    df_rating = transform_nested_dataframe_column(df, 'ratings',['name','url'])\n",
    "    return df"
   ]
  },
  {
   "cell_type": "code",
   "execution_count": 52,
   "id": "bb6f1595",
   "metadata": {},
   "outputs": [],
   "source": [
    "def transform_nested_dataframe_column(df, nested_col, new_cols):\n",
    "    df_flat = df[nested_col].apply(pd.Series)\n",
    "    df_flat = df_flat[new_cols]\n",
    "    return df_flat"
   ]
  },
  {
   "cell_type": "code",
   "execution_count": null,
   "id": "7592b7d9",
   "metadata": {},
   "outputs": [],
   "source": []
  },
  {
   "cell_type": "raw",
   "id": "20fe91b3",
   "metadata": {},
   "source": [
    "df"
   ]
  },
  {
   "cell_type": "code",
   "execution_count": null,
   "id": "c0ecbf3c",
   "metadata": {},
   "outputs": [],
   "source": []
  }
 ],
 "metadata": {
  "kernelspec": {
   "display_name": "Python 3 (ipykernel)",
   "language": "python",
   "name": "python3"
  },
  "language_info": {
   "codemirror_mode": {
    "name": "ipython",
    "version": 3
   },
   "file_extension": ".py",
   "mimetype": "text/x-python",
   "name": "python",
   "nbconvert_exporter": "python",
   "pygments_lexer": "ipython3",
   "version": "3.8.13"
  }
 },
 "nbformat": 4,
 "nbformat_minor": 5
}
